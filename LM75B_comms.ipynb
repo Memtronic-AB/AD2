{
 "cells": [
  {
   "cell_type": "markdown",
   "metadata": {},
   "source": [
    "LM75B \n",
    "This is a test to communicate with the temperature circuit LM75B.\n"
   ]
  },
  {
   "cell_type": "code",
   "execution_count": 1,
   "metadata": {},
   "outputs": [
    {
     "name": "stdout",
     "output_type": "stream",
     "text": [
      "Opening first device\n",
      "failed to open device\n",
      "b'Devices are busy, used by other applications\\n'\n",
      "Powering up....\n",
      "Configuring I2C...\n",
      "I2C bus error. Check the pull-ups.\n",
      "[0, 0, 0, 0, 0, 0, 0, 0, 0, 0, 0, 0, 0, 0, 0, 0]\n",
      "[0, 0, 0, 0, 0, 0, 0, 0, 0, 0, 0, 0, 0, 0, 0, 0]\n"
     ]
    }
   ],
   "source": [
    "\"\"\"\n",
    "   DWF Python Example\n",
    "   Author:  Digilent, Inc.\n",
    "   Revision:  2018-07-23\n",
    "\n",
    "   Requires:                       \n",
    "       Python 2.7, 3\n",
    "\"\"\"\n",
    "\n",
    "from ctypes import *\n",
    "import math\n",
    "import sys\n",
    "import time\n",
    "\n",
    "if sys.platform.startswith(\"win\"):\n",
    "    dwf = cdll.LoadLibrary(\"dwf.dll\")\n",
    "elif sys.platform.startswith(\"darwin\"):\n",
    "    dwf = cdll.LoadLibrary(\"/Library/Frameworks/dwf.framework/dwf\")\n",
    "else:\n",
    "    dwf = cdll.LoadLibrary(\"libdwf.so\")\n",
    "\n",
    "hdwf = c_int()\n",
    "\n",
    "print(\"Opening first device\")\n",
    "#dwf.FDwfDeviceOpen(c_int(-1), byref(hdwf))\n",
    "# device configuration of index 3 (4th) for Analog Discovery has 16kS digital-in/out buffer\n",
    "dwf.FDwfDeviceConfigOpen(c_int(-1), c_int(3), byref(hdwf)) \n",
    "\n",
    "if hdwf.value == 0:\n",
    "    print(\"failed to open device\")\n",
    "    szerr = create_string_buffer(512)\n",
    "    dwf.FDwfGetLastErrorMsg(szerr)\n",
    "    print(str(szerr.value))\n",
    "    quit()\n",
    "\n",
    "#------------- Switch on power to the board - 3.3VDC --------------------\n",
    "\n",
    "print (\"Powering up....\")\n",
    "# enable positive supply\n",
    "dwf.FDwfAnalogIOChannelNodeSet(hdwf, c_int(0), c_int(0), c_double(True)) \n",
    "# set voltage to 3.3 V\n",
    "dwf.FDwfAnalogIOChannelNodeSet(hdwf, c_int(0), c_int(1), c_double(3.3)) \n",
    "# master enable\n",
    "dwf.FDwfAnalogIOEnableSet(hdwf, c_int(True))\n",
    "\n",
    "time.sleep (1)    # wait 1 sec to power up\n",
    "\n",
    "# ------------ Setup I2C communication --------------\n",
    "print(\"Configuring I2C...\")\n",
    "iNak = c_int()\n",
    "\n",
    "dwf.FDwfDigitalI2cRateSet(hdwf, c_double(1e5)) # 100kHz\n",
    "dwf.FDwfDigitalI2cSclSet(hdwf, c_int(8)) # SCL = DIO-8\n",
    "dwf.FDwfDigitalI2cSdaSet(hdwf, c_int(9)) # SDA = DIO-9\n",
    "dwf.FDwfDigitalI2cClear(hdwf, byref(iNak))\n",
    "if iNak.value == 0:\n",
    "    print(\"I2C bus error. Check the pull-ups.\")\n",
    "    quit()\n",
    "time.sleep(1)\n",
    "\n",
    "\n",
    "# ------------- Communicate using I2C --------------\n",
    "rgTX = (c_ubyte*8)(0)\n",
    "rgRX = (c_ubyte*16)()\n",
    "\n",
    "#                                8bit address  \n",
    "dwf.FDwfDigitalI2cWrite(hdwf, c_int(0x48<<1), rgTX, c_int(16), byref(iNak)) # write 16 bytes\n",
    "time.sleep(0.1)\n",
    "\n",
    "dwf.FDwfDigitalI2cRead(hdwf, c_int(0x48<<1), rgRX, c_int(16), byref(iNak)) # read 16 bytes\n",
    "if iNak.value != 0:\n",
    "    print(\"NAK \"+str(iNak.value))\n",
    "print(list(rgRX))\n",
    "time.sleep(0.1)\n",
    "\n",
    "dwf.FDwfDigitalI2cWriteRead(hdwf, c_int(0x48<<1), rgTX, c_int(1), rgRX, c_int(16), byref(iNak)) # write 1 byte restart and read 16 bytes\n",
    "if iNak.value != 0:\n",
    "    print(\"NAK \"+str(iNak.value))\n",
    "print(list(rgRX))\n",
    "\n"
   ]
  },
  {
   "cell_type": "markdown",
   "metadata": {},
   "source": [
    "Power off and Close handles"
   ]
  },
  {
   "cell_type": "code",
   "execution_count": 1,
   "metadata": {},
   "outputs": [
    {
     "ename": "NameError",
     "evalue": "name 'dwf' is not defined",
     "output_type": "error",
     "traceback": [
      "\u001b[1;31m---------------------------------------------------------------------------\u001b[0m",
      "\u001b[1;31mNameError\u001b[0m                                 Traceback (most recent call last)",
      "\u001b[1;32m<ipython-input-1-79aa5c80154f>\u001b[0m in \u001b[0;36m<module>\u001b[1;34m\u001b[0m\n\u001b[0;32m      2\u001b[0m \u001b[1;33m\u001b[0m\u001b[0m\n\u001b[0;32m      3\u001b[0m \u001b[1;31m# disable positive supply\u001b[0m\u001b[1;33m\u001b[0m\u001b[1;33m\u001b[0m\u001b[1;33m\u001b[0m\u001b[0m\n\u001b[1;32m----> 4\u001b[1;33m \u001b[0mdwf\u001b[0m\u001b[1;33m.\u001b[0m\u001b[0mFDwfAnalogIOChannelNodeSet\u001b[0m\u001b[1;33m(\u001b[0m\u001b[0mhdwf\u001b[0m\u001b[1;33m,\u001b[0m \u001b[0mc_int\u001b[0m\u001b[1;33m(\u001b[0m\u001b[1;36m0\u001b[0m\u001b[1;33m)\u001b[0m\u001b[1;33m,\u001b[0m \u001b[0mc_int\u001b[0m\u001b[1;33m(\u001b[0m\u001b[1;36m0\u001b[0m\u001b[1;33m)\u001b[0m\u001b[1;33m,\u001b[0m \u001b[0mc_double\u001b[0m\u001b[1;33m(\u001b[0m\u001b[1;32mFalse\u001b[0m\u001b[1;33m)\u001b[0m\u001b[1;33m)\u001b[0m\u001b[1;33m\u001b[0m\u001b[1;33m\u001b[0m\u001b[0m\n\u001b[0m\u001b[0;32m      5\u001b[0m \u001b[1;33m\u001b[0m\u001b[0m\n\u001b[0;32m      6\u001b[0m \u001b[1;31m# master disable\u001b[0m\u001b[1;33m\u001b[0m\u001b[1;33m\u001b[0m\u001b[1;33m\u001b[0m\u001b[0m\n",
      "\u001b[1;31mNameError\u001b[0m: name 'dwf' is not defined"
     ]
    }
   ],
   "source": [
    "#----------- Power off -----------------\n",
    "\n",
    "# disable positive supply\n",
    "dwf.FDwfAnalogIOChannelNodeSet(hdwf, c_int(0), c_int(0), c_double(False)) \n",
    "\n",
    "# master disable\n",
    "dwf.FDwfAnalogIOEnableSet(hdwf, c_int(False))\n",
    "\n",
    "\n",
    "# ---------- Close handle ---------------\n",
    "dwf.FDwfDeviceCloseAll()"
   ]
  },
  {
   "cell_type": "code",
   "execution_count": 1,
   "metadata": {},
   "outputs": [
    {
     "ename": "NameError",
     "evalue": "name 'dwf' is not defined",
     "output_type": "error",
     "traceback": [
      "\u001b[1;31m---------------------------------------------------------------------------\u001b[0m",
      "\u001b[1;31mNameError\u001b[0m                                 Traceback (most recent call last)",
      "\u001b[1;32m<ipython-input-1-b044963d4b1b>\u001b[0m in \u001b[0;36m<module>\u001b[1;34m\u001b[0m\n\u001b[0;32m      1\u001b[0m \u001b[1;31m# ---------- Close handle ---------------\u001b[0m\u001b[1;33m\u001b[0m\u001b[1;33m\u001b[0m\u001b[1;33m\u001b[0m\u001b[0m\n\u001b[1;32m----> 2\u001b[1;33m \u001b[0mdwf\u001b[0m\u001b[1;33m.\u001b[0m\u001b[0mFDwfDeviceCloseAll\u001b[0m\u001b[1;33m(\u001b[0m\u001b[1;33m)\u001b[0m\u001b[1;33m\u001b[0m\u001b[1;33m\u001b[0m\u001b[0m\n\u001b[0m",
      "\u001b[1;31mNameError\u001b[0m: name 'dwf' is not defined"
     ]
    }
   ],
   "source": [
    "\n",
    "# ---------- Close handle ---------------\n",
    "dwf.FDwfDeviceCloseAll()"
   ]
  }
 ],
 "metadata": {
  "kernelspec": {
   "display_name": "Python 3",
   "language": "python",
   "name": "python3"
  },
  "language_info": {
   "codemirror_mode": {
    "name": "ipython",
    "version": 3
   },
   "file_extension": ".py",
   "mimetype": "text/x-python",
   "name": "python",
   "nbconvert_exporter": "python",
   "pygments_lexer": "ipython3",
   "version": "3.8.3"
  }
 },
 "nbformat": 4,
 "nbformat_minor": 4
}
